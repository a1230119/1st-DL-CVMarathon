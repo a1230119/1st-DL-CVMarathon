{
 "cells": [
  {
   "cell_type": "code",
   "execution_count": 1,
   "metadata": {},
   "outputs": [],
   "source": [
    "import cv2\n",
    "\n",
    "path = \"data/lena.png\"\n",
    "\n",
    "image = cv2.imread(path)\n",
    "image_gray = cv2.imread(path, cv2.IMREAD_GRAYSCALE)\n",
    "\n",
    "cv2.imshow('bgr', image)\n",
    "cv2.imshow('gray', image_gray)\n",
    "\n",
    "k = cv2.waitKey(0)\n",
    "#if k == 27:\n",
    "cv2.destroyAllWindows()"
   ]
  }
 ],
 "metadata": {
  "kernelspec": {
   "display_name": "Python 3",
   "language": "python",
   "name": "python3"
  },
  "language_info": {
   "codemirror_mode": {
    "name": "ipython",
    "version": 3
   },
   "file_extension": ".py",
   "mimetype": "text/x-python",
   "name": "python",
   "nbconvert_exporter": "python",
   "pygments_lexer": "ipython3",
   "version": "3.7.4"
  }
 },
 "nbformat": 4,
 "nbformat_minor": 2
}
